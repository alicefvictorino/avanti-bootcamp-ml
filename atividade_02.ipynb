{
 "cells": [
  {
   "cell_type": "markdown",
   "id": "d409f0a1",
   "metadata": {},
   "source": [
    "1. Escreva uma função que receba uma lista de números e retorne outra lista\n",
    "com os números ímpares.\n",
    "2. Escreva uma função que receba uma lista de números e retorne outra lista\n",
    "com os números primos presentes.\n",
    "3. Escreva uma função que receba duas listas e retorne outra lista com os\n",
    "elementos que estão presentes em apenas uma das listas.\n",
    "4. Dada uma lista de números inteiros, escreva uma função para encontrar o\n",
    "segundo maior valor na lista.\n",
    "5. Crie uma função que receba uma lista de tuplas, cada uma contendo o\n",
    "nome e a idade de uma pessoa, e retorne a lista ordenada pelo nome das\n",
    "pessoas em ordem alfabética.\n",
    "6. Como identificar e tratar outliers em uma coluna numérica usando desvio\n",
    "padrão ou quartis?\n",
    "7. Como concatenar vários DataFrames (empilhando linhas ou colunas),\n",
    "mesmo que tenham colunas diferentes?\n",
    "Dica: Utiliza-se pd.concat() especificando axis=0 (linhas) ou axis=1\n",
    "(colunas). Quando há colunas diferentes, os valores ausentes são\n",
    "preenchidos com NaN.\n",
    "8. Utilizando pandas, como realizar a leitura de um arquivo CSV em um\n",
    "DataFrame e exibir as primeiras linhas?\n",
    "9. Utilizando pandas, como selecionar uma coluna específica e filtrar linhas\n",
    "em um “DataFrame” com base em uma condição?\n",
    "10. Utilizando pandas, como lidar com valores ausentes (NaN) em um\n",
    "DataFrame?"
   ]
  },
  {
   "cell_type": "code",
   "execution_count": 13,
   "id": "cb527f69",
   "metadata": {},
   "outputs": [],
   "source": [
    "from typing import List\n",
    "\n",
    "# Questão 1\n",
    "def impares(lista: List) -> List:\n",
    "    impares = []\n",
    "    for num in lista:\n",
    "        if num % 2 != 0:\n",
    "            impares.append(num)\n",
    "    return impares\n",
    "\n",
    "assert impares([1,2,3,4,5,6]) == [1,3,5]\n",
    "assert impares([-1,2,-3,-4,5,-6]) == [-1,-3,5]"
   ]
  },
  {
   "cell_type": "code",
   "execution_count": 14,
   "id": "d323aedb",
   "metadata": {},
   "outputs": [],
   "source": [
    "# Questão 2\n",
    "def primos(lista: List) -> List:\n",
    "    primos = []\n",
    "    for num in lista:\n",
    "        # print(num)\n",
    "        contador = 0\n",
    "        if num == 1:\n",
    "            primos.append(num)\n",
    "        else:\n",
    "            for i in range(1, num+1):\n",
    "                if num % i == 0:\n",
    "                    contador += 1\n",
    "            if contador == 2:\n",
    "                primos.append(num)\n",
    "    return primos\n",
    "\n",
    "assert primos([1, 2, 3, 4, 5, 6, 7]) == [1, 2, 3, 5, 7]"
   ]
  },
  {
   "cell_type": "code",
   "execution_count": 15,
   "id": "65be4d27",
   "metadata": {},
   "outputs": [],
   "source": [
    "# Questão 3\n",
    "def intersecao(lista_1: List, lista_2: List) -> List:\n",
    "    intersecao = []\n",
    "    for num in lista_1:\n",
    "        if num in lista_2:\n",
    "            intersecao.append(num)\n",
    "    return intersecao\n",
    "\n",
    "assert intersecao([1,2,3], [2,3,4]) == [2,3]"
   ]
  },
  {
   "cell_type": "code",
   "execution_count": 16,
   "id": "85c36045",
   "metadata": {},
   "outputs": [],
   "source": [
    "# Questão 4\n",
    "def segundo_maior(lista: List) -> int:\n",
    "    set_lista = set(lista)\n",
    "    lista_sem_repetidos = list(sorted(set_lista))\n",
    "    if len(lista_sem_repetidos) < 2:\n",
    "        raise ValueError(\"A lista deve conter pelo menos dois elementos.\")\n",
    "    return lista_sem_repetidos[-2]\n",
    "\n",
    "assert segundo_maior([1,2,3,4,5,5,5]) == 4"
   ]
  },
  {
   "cell_type": "code",
   "execution_count": 17,
   "id": "cb48300f",
   "metadata": {},
   "outputs": [],
   "source": [
    "# Questão 5\n",
    "def ordenar_por_nome(lista: List[tuple]) -> List[tuple]:\n",
    "    return sorted(lista, key=lambda x: x[0])\n",
    "\n",
    "assert ordenar_por_nome([(\"Maria\", 25), (\"João\", 30), (\"Ana\", 22)]) == [(\"Ana\", 22), (\"João\", 30), (\"Maria\", 25)]"
   ]
  },
  {
   "cell_type": "markdown",
   "id": "0075b694",
   "metadata": {},
   "source": [
    "**Questão 6**\n",
    "\n",
    "Se os dados seguem uma distribuição aproximadamente normal, uma ótima opção é checar o desvio padrão: se o valor está fora do intervalo de até 3 desvios-padrão da média, é um forte candidato a outlier.\n",
    "Quando a distribuição de dados é assimétrica, o intervalo interquartil é um método mais robusto para identificar os outliers. Dados que não estão dentro do intervalo que corresponde à diferença entre o 75° percentil e o 25° percentil são outliers.\n",
    "\n",
    "O tratamento dos valores discrepantes pode ser feito seguindo diferentes estratégias, de acordo com os dados e o domínio do problema: \n",
    "- Remoção\n",
    "- Substituição de valores pelo limite inferior e superior\n",
    "- Substituição de valores pela média, mediana ou moda \n",
    "- Transformação \n",
    "\n",
    "**Questão 7**\n",
    "\n",
    "Para concatenar múltiplos DataFrames no pandas, utiliza-se a função pd.concat(). Essa função opera de duas maneiras principais, controladas pelo argumento axis. Para empilhar DataFrames verticalmente, adicionando as linhas de um ao final do outro, usa-se axis=0. Se os DataFrames não compartilharem exatamente as mesmas colunas, o pandas criará um conjunto unificado com todas as colunas presentes e preencherá os valores das colunas ausentes em cada DataFrame com NaN.\n",
    "\n",
    "Para unir DataFrames horizontalmente, o argumento fica axis=1. Nessa abordagem, a função alinha os dados com base no índice de cada DataFrame. Se os índices não se corresponderem perfeitamente entre os DataFrames, as linhas sem correspondência serão preenchidas com NaN.\n",
    "\n",
    "**Questão 8** \n",
    "\n",
    "Utilizando a função read_csv e passando como argumento o caminho do arquivo. Se o .csv estiver no mesmo diretório que o código, basta passar como argumento o nome do arquivo. Para visualizar as primeiras linhas, basta utilizar a função .head() no DataFrame e especificar a quantidade de linhas dentro dos parênteses. Por padrão, a função sem argumentos mostra as primeiras 5 linhas do DataFrame.\n",
    "\n",
    "**Questão 9**\n",
    "\n",
    "Para selecionar uma coluna específica, basta utilizar a notação df['nome_coluna'], ou  a função .loc() passando o nome da coluna como primeiro argumento (ex: df['nome_coluna', :] para selecionar todas as linhas daquela coluna).\n",
    "Para filtrar as linhas com base em uma condição, é possível criar uma \"máscara\" com uma condição e aplicar ela ao DataFrame.\n",
    "O exemplo a seguir seleciona as linhas onde o nome é igual a Alice.\n",
    "```python\n",
    "condicao = df['nome'] == 'Alice'\n",
    "pessoas_chamadas_alice = df[condicao]\n",
    "```\n",
    "\n",
    "**Questão 10**\n",
    "\n",
    "Dependendo da estratégia escolhida para lidar com os valores ausentes, que deve se basear no padrão e contexto em que os dados estão inseridos, o Pandas oferece várias alternativas para lidar com esse tipo de situação.\n",
    "- Remoção dos dados ausentes: Pode ser feita utilizando a função .dropna(), que remove linhas com valor(es) NaN. O argumento axis=1 pode ser usado caso se queira remover uma coluna que possuir pelo menos um valor NaN.\n",
    "- Imputação de dados: Para substituir os dados ausentes por outros valores, o Pandas oferece a função .fillna(), que pode receber como argumento um número ou valor específico, a média ou mediana de uma coluna e muitas outras opções."
   ]
  },
  {
   "cell_type": "markdown",
   "id": "292b492c",
   "metadata": {},
   "source": []
  }
 ],
 "metadata": {
  "kernelspec": {
   "display_name": ".venv (3.12.3)",
   "language": "python",
   "name": "python3"
  },
  "language_info": {
   "codemirror_mode": {
    "name": "ipython",
    "version": 3
   },
   "file_extension": ".py",
   "mimetype": "text/x-python",
   "name": "python",
   "nbconvert_exporter": "python",
   "pygments_lexer": "ipython3",
   "version": "3.12.3"
  }
 },
 "nbformat": 4,
 "nbformat_minor": 5
}
